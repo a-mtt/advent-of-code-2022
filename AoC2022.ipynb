{
 "cells": [
  {
   "cell_type": "markdown",
   "metadata": {},
   "source": [
    "## Day 1"
   ]
  },
  {
   "cell_type": "code",
   "execution_count": 80,
   "metadata": {},
   "outputs": [],
   "source": [
    "with open('day1.txt') as file:\n",
    "    data=file.read()\n",
    "elves = data.split('\\n\\n')\n",
    "calories = [sum(int(cal) for cal in elf.split('\\n')) for elf in elves]\n",
    "challenge1 = max(calories)\n",
    "challenge2 = sum(sorted(calories,reverse=True)[:3])"
   ]
  },
  {
   "cell_type": "code",
   "execution_count": 81,
   "metadata": {},
   "outputs": [
    {
     "data": {
      "text/plain": [
       "(68802, 205370)"
      ]
     },
     "execution_count": 81,
     "metadata": {},
     "output_type": "execute_result"
    }
   ],
   "source": [
    "challenge1,challenge2"
   ]
  },
  {
   "cell_type": "markdown",
   "metadata": {},
   "source": [
    "## Day 2"
   ]
  },
  {
   "cell_type": "code",
   "execution_count": 3,
   "metadata": {},
   "outputs": [],
   "source": [
    "with open('day2.txt') as file:\n",
    "    data=file.read()\n",
    "plays=data.split('\\n')\n",
    "elf=[play[0] for play in plays]\n",
    "me=[play[-1] for play in plays]"
   ]
  },
  {
   "cell_type": "code",
   "execution_count": 4,
   "metadata": {},
   "outputs": [
    {
     "data": {
      "text/plain": [
       "8392"
      ]
     },
     "execution_count": 4,
     "metadata": {},
     "output_type": "execute_result"
    }
   ],
   "source": [
    "shape_score = sum(1 if shape=='X' else 2 if shape=='Y' else 3 for shape in me )\n",
    "draw_score = sum(3  for e,m in zip(elf,me) if ((e=='A' and m=='X') or (e=='B' and m=='Y') or (e=='C' and m=='Z')))\n",
    "win_score = sum(6  for e,m in zip(elf,me) if ((e=='A' and m=='Y') or (e=='B' and m=='Z') or (e=='C' and m=='X')))\n",
    "total_score = shape_score + draw_score + win_score\n",
    "total_score"
   ]
  },
  {
   "cell_type": "code",
   "execution_count": 5,
   "metadata": {},
   "outputs": [
    {
     "data": {
      "text/plain": [
       "10116"
      ]
     },
     "execution_count": 5,
     "metadata": {},
     "output_type": "execute_result"
    }
   ],
   "source": [
    "win_draw_score = sum(0 if outcome=='X' else 3 if outcome=='Y' else 6 for outcome in me )\n",
    "elf=[1 if shape=='A' else 2 if shape=='B' else 3 for shape in elf ]\n",
    "my_shapes = [s if s else 3 for s in [(e+1)%3 if out==\"Z\" else e if out==\"Y\" else (e-1)%3 for e,out in zip(elf,me)]]\n",
    "sum(my_shapes) + win_draw_score"
   ]
  },
  {
   "cell_type": "markdown",
   "metadata": {},
   "source": [
    "## Day 3"
   ]
  },
  {
   "cell_type": "code",
   "execution_count": 7,
   "metadata": {},
   "outputs": [],
   "source": [
    "with open('day3.txt') as file:\n",
    "    data=file.read()\n",
    "rucksacks=data.split('\\n')"
   ]
  },
  {
   "cell_type": "code",
   "execution_count": 8,
   "metadata": {},
   "outputs": [
    {
     "data": {
      "text/plain": [
       "7863"
      ]
     },
     "execution_count": 8,
     "metadata": {},
     "output_type": "execute_result"
    }
   ],
   "source": [
    "from string import ascii_letters\n",
    "repeats = [[letter for letter in sack if (letter in sack[:int(len(sack)/2)] and letter in sack[int(len(sack)/2):])][0] for sack in rucksacks]\n",
    "priorities = sum(ascii_letters.index(letter)+1 for letter in repeats)\n",
    "priorities"
   ]
  },
  {
   "cell_type": "code",
   "execution_count": 9,
   "metadata": {},
   "outputs": [
    {
     "data": {
      "text/plain": [
       "2488"
      ]
     },
     "execution_count": 9,
     "metadata": {},
     "output_type": "execute_result"
    }
   ],
   "source": [
    "repeats_group = [[letter for letter in group[0] if (letter in group[0] and  letter in group[1]) and letter in group[2] ][0] for group in [rucksacks[i:i+3] for i in range(0,len(rucksacks),3)]]\n",
    "priorities_group = sum(ascii_letters.index(letter)+1 for letter in repeats_group)\n",
    "priorities_group"
   ]
  },
  {
   "cell_type": "markdown",
   "metadata": {},
   "source": [
    "## Day 4"
   ]
  },
  {
   "cell_type": "code",
   "execution_count": 10,
   "metadata": {},
   "outputs": [],
   "source": [
    "with open('day4.txt') as file:\n",
    "    data=file.read()\n",
    "assignments=data.split('\\n')"
   ]
  },
  {
   "cell_type": "code",
   "execution_count": 11,
   "metadata": {},
   "outputs": [],
   "source": [
    "def one_in_another(line):\n",
    "    line=line.split(',')\n",
    "    uno=[int(room) for room in line[0].split('-')]\n",
    "    dos=[int(room) for room in line[1].split('-')]\n",
    "    if uno[0]<= dos[0] and uno[1]>=dos[1]:\n",
    "        return True\n",
    "    if dos[0]<= uno[0] and dos[1]>=uno[1]:\n",
    "        return True\n",
    "    return False\n",
    "    "
   ]
  },
  {
   "cell_type": "code",
   "execution_count": 15,
   "metadata": {},
   "outputs": [
    {
     "data": {
      "text/plain": [
       "511"
      ]
     },
     "execution_count": 15,
     "metadata": {},
     "output_type": "execute_result"
    }
   ],
   "source": [
    "sum(one_in_another(line) for line in assignments)"
   ]
  },
  {
   "cell_type": "code",
   "execution_count": 14,
   "metadata": {},
   "outputs": [],
   "source": [
    "def overlap(line):\n",
    "    line=line.split(',')\n",
    "    uno=[int(room) for room in line[0].split('-')]\n",
    "    dos=[int(room) for room in line[1].split('-')]\n",
    "    if uno[0]<=dos[0] and uno[1]>=dos[0]:\n",
    "        return True\n",
    "    if dos[0]<=uno[0] and dos[1]>=uno[0]:\n",
    "        return True\n",
    "    return False"
   ]
  },
  {
   "cell_type": "code",
   "execution_count": 16,
   "metadata": {},
   "outputs": [
    {
     "data": {
      "text/plain": [
       "821"
      ]
     },
     "execution_count": 16,
     "metadata": {},
     "output_type": "execute_result"
    }
   ],
   "source": [
    "sum(overlap(line) or one_in_another(line) for line in assignments)"
   ]
  },
  {
   "cell_type": "markdown",
   "metadata": {},
   "source": [
    "## Day 5"
   ]
  },
  {
   "cell_type": "code",
   "execution_count": 19,
   "metadata": {},
   "outputs": [],
   "source": [
    "with open('day5.txt') as file:\n",
    "    data=file.read()\n",
    "crates,moves = data.split(\"move\")[0],\"move\"+\"move\".join(data.split(\"move\")[1:])\n",
    "crates=crates.splitlines()[:-2]\n",
    "moves=moves.splitlines()"
   ]
  },
  {
   "cell_type": "code",
   "execution_count": 18,
   "metadata": {},
   "outputs": [],
   "source": [
    "def crates_to_lists(crates):\n",
    "    listofcrates=[[] for _ in range(9)]\n",
    "    for i in range(-1,-len(crates)-1,-1):\n",
    "        for j,k in zip(range(1,35,4),range(9)):\n",
    "            if crates[i][j]!=\" \":\n",
    "                listofcrates[k].append(crates[i][j])\n",
    "    return listofcrates\n",
    "    "
   ]
  },
  {
   "cell_type": "code",
   "execution_count": 266,
   "metadata": {},
   "outputs": [],
   "source": [
    "import re\n",
    "def moves_to_action(moves,listofcrates):\n",
    "    get_moves = re.compile(r'move (\\d+) from (\\d+) to (\\d+)')\n",
    "    for move in moves:\n",
    "        qty,org,dest = [int(num) for num in get_moves.match(move).groups()]\n",
    "        for _ in range(qty):\n",
    "            if listofcrates[org-1]:\n",
    "                listofcrates[dest-1].append(listofcrates[org-1][-1])\n",
    "                listofcrates[org-1].pop()\n",
    "    return listofcrates"
   ]
  },
  {
   "cell_type": "code",
   "execution_count": 269,
   "metadata": {},
   "outputs": [
    {
     "data": {
      "text/plain": [
       "'TLFGBZHCN'"
      ]
     },
     "execution_count": 269,
     "metadata": {},
     "output_type": "execute_result"
    }
   ],
   "source": [
    "result = moves_to_action(moves,crates_to_lists(crates))\n",
    "''.join(line[-1] for line in result)"
   ]
  },
  {
   "cell_type": "code",
   "execution_count": 277,
   "metadata": {},
   "outputs": [],
   "source": [
    "def moves_to_action_2(moves,listofcrates):\n",
    "    get_moves = re.compile(r'move (\\d+) from (\\d+) to (\\d+)')\n",
    "    for move in moves:\n",
    "        qty,org,dest = [int(num) for num in get_moves.match(move).groups()]\n",
    "        if len(listofcrates[org-1])>=qty:\n",
    "            listofcrates[dest-1].extend(listofcrates[org-1][-qty:])\n",
    "            for _ in range(qty):\n",
    "                listofcrates[org-1].pop()\n",
    "        elif listofcrates[org-1]:\n",
    "            listofcrates[dest-1].extend(listofcrates[org-1][:len(listofcrates[org-1])])\n",
    "            listofcrates[org-1]=[]\n",
    "            \n",
    "    return listofcrates"
   ]
  },
  {
   "cell_type": "code",
   "execution_count": 279,
   "metadata": {},
   "outputs": [
    {
     "data": {
      "text/plain": [
       "'QRQFHFWCL'"
      ]
     },
     "execution_count": 279,
     "metadata": {},
     "output_type": "execute_result"
    }
   ],
   "source": [
    "result = moves_to_action_2(moves,crates_to_lists(crates))\n",
    "''.join(line[-1] for line in result)\n"
   ]
  },
  {
   "cell_type": "code",
   "execution_count": 38,
   "metadata": {},
   "outputs": [
    {
     "data": {
      "text/plain": [
       "0.5"
      ]
     },
     "execution_count": 38,
     "metadata": {},
     "output_type": "execute_result"
    }
   ],
   "source": [
    "1.5%1"
   ]
  },
  {
   "cell_type": "code",
   "execution_count": 80,
   "metadata": {},
   "outputs": [],
   "source": [
    "orders=[{\"tire\": 1, \"steeringWheel\": 2, \"totalPrice\": 31.56}]\n",
    "def correct_order(orders):\n",
    "\n",
    "    result=[]\n",
    "    for order in orders:\n",
    "        tire=[0.98+i for i in range(5,17)]\n",
    "        stw = [round((order[\"totalPrice\"]-order[\"tire\"]*i)/order[\"steeringWheel\"],2) for i in tire]\n",
    "        prices=[idx for idx in range(len(tire)) if (stw[idx]-tire[idx]<=3 and stw[idx]>tire[idx] and round(stw[idx]%1,2)==0.79)]\n",
    "        prices=prices[0]\n",
    "        result.append({\"tire\": 4, \"steeringWheel\": 1, \"totalPrice\": 4*tire[prices]+stw[prices]})\n",
    "    return result\n",
    "\n"
   ]
  },
  {
   "cell_type": "code",
   "execution_count": 81,
   "metadata": {},
   "outputs": [
    {
     "data": {
      "text/plain": [
       "[{'tire': 4, 'steeringWheel': 1, 'totalPrice': 50.71},\n",
       " {'tire': 4, 'steeringWheel': 1, 'totalPrice': 61.71}]"
      ]
     },
     "execution_count": 81,
     "metadata": {},
     "output_type": "execute_result"
    }
   ],
   "source": [
    "a = [\n",
    "            {\"tire\": 1, \"steeringWheel\": 2, \"totalPrice\": 31.56},\n",
    "            {\"tire\": 5, \"steeringWheel\": 1, \"totalPrice\": 73.69}\n",
    "        ]\n",
    "correct_order(a)"
   ]
  },
  {
   "cell_type": "markdown",
   "metadata": {},
   "source": [
    "## Day 6"
   ]
  },
  {
   "cell_type": "code",
   "execution_count": 82,
   "metadata": {},
   "outputs": [],
   "source": [
    "with open('day6.txt') as file:\n",
    "    data=file.read()"
   ]
  },
  {
   "cell_type": "code",
   "execution_count": 90,
   "metadata": {},
   "outputs": [
    {
     "data": {
      "text/plain": [
       "(1804, 2508)"
      ]
     },
     "execution_count": 90,
     "metadata": {},
     "output_type": "execute_result"
    }
   ],
   "source": [
    "def get_marker(input_,length=4):\n",
    "    for i in range(length,len(data)):\n",
    "        if len(set(data[i-length:i]))==length:\n",
    "            return i\n",
    "get_marker(data),get_marker(data,14)"
   ]
  },
  {
   "cell_type": "code",
   "execution_count": null,
   "metadata": {},
   "outputs": [],
   "source": []
  }
 ],
 "metadata": {
  "kernelspec": {
   "display_name": "Python 3.10.6 64-bit ('letscode310')",
   "language": "python",
   "name": "python3"
  },
  "language_info": {
   "codemirror_mode": {
    "name": "ipython",
    "version": 3
   },
   "file_extension": ".py",
   "mimetype": "text/x-python",
   "name": "python",
   "nbconvert_exporter": "python",
   "pygments_lexer": "ipython3",
   "version": "3.10.6"
  },
  "orig_nbformat": 4,
  "vscode": {
   "interpreter": {
    "hash": "85e7a108dd95da4f3b728b7702bb4a60b08ee7fe3bc6394580fd7d353e3c7db8"
   }
  }
 },
 "nbformat": 4,
 "nbformat_minor": 2
}

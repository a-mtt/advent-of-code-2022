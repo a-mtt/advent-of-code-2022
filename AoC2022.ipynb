{
 "cells": [
  {
   "cell_type": "markdown",
   "metadata": {},
   "source": [
    "## Day 1"
   ]
  },
  {
   "cell_type": "code",
   "execution_count": 80,
   "metadata": {},
   "outputs": [],
   "source": [
    "with open('day1.txt') as file:\n",
    "    data=file.read()\n",
    "elves = data.split('\\n\\n')\n",
    "calories = [sum(int(cal) for cal in elf.split('\\n')) for elf in elves]\n",
    "challenge1 = max(calories)\n",
    "challenge2 = sum(sorted(calories,reverse=True)[:3])"
   ]
  },
  {
   "cell_type": "code",
   "execution_count": 81,
   "metadata": {},
   "outputs": [
    {
     "data": {
      "text/plain": [
       "(68802, 205370)"
      ]
     },
     "execution_count": 81,
     "metadata": {},
     "output_type": "execute_result"
    }
   ],
   "source": [
    "challenge1,challenge2"
   ]
  },
  {
   "cell_type": "markdown",
   "metadata": {},
   "source": [
    "## Day 2"
   ]
  },
  {
   "cell_type": "code",
   "execution_count": 3,
   "metadata": {},
   "outputs": [],
   "source": [
    "with open('day2.txt') as file:\n",
    "    data=file.read()\n",
    "plays=data.split('\\n')\n",
    "elf=[play[0] for play in plays]\n",
    "me=[play[-1] for play in plays]"
   ]
  },
  {
   "cell_type": "code",
   "execution_count": 4,
   "metadata": {},
   "outputs": [
    {
     "data": {
      "text/plain": [
       "8392"
      ]
     },
     "execution_count": 4,
     "metadata": {},
     "output_type": "execute_result"
    }
   ],
   "source": [
    "shape_score = sum(1 if shape=='X' else 2 if shape=='Y' else 3 for shape in me )\n",
    "draw_score = sum(3  for e,m in zip(elf,me) if ((e=='A' and m=='X') or (e=='B' and m=='Y') or (e=='C' and m=='Z')))\n",
    "win_score = sum(6  for e,m in zip(elf,me) if ((e=='A' and m=='Y') or (e=='B' and m=='Z') or (e=='C' and m=='X')))\n",
    "total_score = shape_score + draw_score + win_score\n",
    "total_score"
   ]
  },
  {
   "cell_type": "code",
   "execution_count": 5,
   "metadata": {},
   "outputs": [
    {
     "data": {
      "text/plain": [
       "10116"
      ]
     },
     "execution_count": 5,
     "metadata": {},
     "output_type": "execute_result"
    }
   ],
   "source": [
    "win_draw_score = sum(0 if outcome=='X' else 3 if outcome=='Y' else 6 for outcome in me )\n",
    "elf=[1 if shape=='A' else 2 if shape=='B' else 3 for shape in elf ]\n",
    "my_shapes = [s if s else 3 for s in [(e+1)%3 if out==\"Z\" else e if out==\"Y\" else (e-1)%3 for e,out in zip(elf,me)]]\n",
    "sum(my_shapes) + win_draw_score"
   ]
  },
  {
   "cell_type": "markdown",
   "metadata": {},
   "source": [
    "## Day 3"
   ]
  },
  {
   "cell_type": "code",
   "execution_count": 7,
   "metadata": {},
   "outputs": [],
   "source": [
    "with open('day3.txt') as file:\n",
    "    data=file.read()\n",
    "rucksacks=data.split('\\n')"
   ]
  },
  {
   "cell_type": "code",
   "execution_count": 8,
   "metadata": {},
   "outputs": [
    {
     "data": {
      "text/plain": [
       "7863"
      ]
     },
     "execution_count": 8,
     "metadata": {},
     "output_type": "execute_result"
    }
   ],
   "source": [
    "from string import ascii_letters\n",
    "repeats = [[letter for letter in sack if (letter in sack[:int(len(sack)/2)] and letter in sack[int(len(sack)/2):])][0] for sack in rucksacks]\n",
    "priorities = sum(ascii_letters.index(letter)+1 for letter in repeats)\n",
    "priorities"
   ]
  },
  {
   "cell_type": "code",
   "execution_count": 9,
   "metadata": {},
   "outputs": [
    {
     "data": {
      "text/plain": [
       "2488"
      ]
     },
     "execution_count": 9,
     "metadata": {},
     "output_type": "execute_result"
    }
   ],
   "source": [
    "repeats_group = [[letter for letter in group[0] if (letter in group[0] and  letter in group[1]) and letter in group[2] ][0] for group in [rucksacks[i:i+3] for i in range(0,len(rucksacks),3)]]\n",
    "priorities_group = sum(ascii_letters.index(letter)+1 for letter in repeats_group)\n",
    "priorities_group"
   ]
  },
  {
   "cell_type": "markdown",
   "metadata": {},
   "source": [
    "## Day 4"
   ]
  },
  {
   "cell_type": "code",
   "execution_count": 10,
   "metadata": {},
   "outputs": [],
   "source": [
    "with open('day4.txt') as file:\n",
    "    data=file.read()\n",
    "assignments=data.split('\\n')"
   ]
  },
  {
   "cell_type": "code",
   "execution_count": 11,
   "metadata": {},
   "outputs": [],
   "source": [
    "def one_in_another(line):\n",
    "    line=line.split(',')\n",
    "    uno=[int(room) for room in line[0].split('-')]\n",
    "    dos=[int(room) for room in line[1].split('-')]\n",
    "    if uno[0]<= dos[0] and uno[1]>=dos[1]:\n",
    "        return True\n",
    "    if dos[0]<= uno[0] and dos[1]>=uno[1]:\n",
    "        return True\n",
    "    return False\n",
    "    "
   ]
  },
  {
   "cell_type": "code",
   "execution_count": 15,
   "metadata": {},
   "outputs": [
    {
     "data": {
      "text/plain": [
       "511"
      ]
     },
     "execution_count": 15,
     "metadata": {},
     "output_type": "execute_result"
    }
   ],
   "source": [
    "sum(one_in_another(line) for line in assignments)"
   ]
  },
  {
   "cell_type": "code",
   "execution_count": 14,
   "metadata": {},
   "outputs": [],
   "source": [
    "def overlap(line):\n",
    "    line=line.split(',')\n",
    "    uno=[int(room) for room in line[0].split('-')]\n",
    "    dos=[int(room) for room in line[1].split('-')]\n",
    "    if uno[0]<=dos[0] and uno[1]>=dos[0]:\n",
    "        return True\n",
    "    if dos[0]<=uno[0] and dos[1]>=uno[0]:\n",
    "        return True\n",
    "    return False"
   ]
  },
  {
   "cell_type": "code",
   "execution_count": 16,
   "metadata": {},
   "outputs": [
    {
     "data": {
      "text/plain": [
       "821"
      ]
     },
     "execution_count": 16,
     "metadata": {},
     "output_type": "execute_result"
    }
   ],
   "source": [
    "sum(overlap(line) or one_in_another(line) for line in assignments)"
   ]
  },
  {
   "cell_type": "markdown",
   "metadata": {},
   "source": [
    "## Day 5"
   ]
  },
  {
   "cell_type": "code",
   "execution_count": 19,
   "metadata": {},
   "outputs": [],
   "source": [
    "with open('day5.txt') as file:\n",
    "    data=file.read()\n",
    "crates,moves = data.split(\"move\")[0],\"move\"+\"move\".join(data.split(\"move\")[1:])\n",
    "crates=crates.splitlines()[:-2]\n",
    "moves=moves.splitlines()"
   ]
  },
  {
   "cell_type": "code",
   "execution_count": 18,
   "metadata": {},
   "outputs": [],
   "source": [
    "def crates_to_lists(crates):\n",
    "    listofcrates=[[] for _ in range(9)]\n",
    "    for i in range(-1,-len(crates)-1,-1):\n",
    "        for j,k in zip(range(1,35,4),range(9)):\n",
    "            if crates[i][j]!=\" \":\n",
    "                listofcrates[k].append(crates[i][j])\n",
    "    return listofcrates\n",
    "    "
   ]
  },
  {
   "cell_type": "code",
   "execution_count": 266,
   "metadata": {},
   "outputs": [],
   "source": [
    "import re\n",
    "def moves_to_action(moves,listofcrates):\n",
    "    get_moves = re.compile(r'move (\\d+) from (\\d+) to (\\d+)')\n",
    "    for move in moves:\n",
    "        qty,org,dest = [int(num) for num in get_moves.match(move).groups()]\n",
    "        for _ in range(qty):\n",
    "            if listofcrates[org-1]:\n",
    "                listofcrates[dest-1].append(listofcrates[org-1][-1])\n",
    "                listofcrates[org-1].pop()\n",
    "    return listofcrates"
   ]
  },
  {
   "cell_type": "code",
   "execution_count": 269,
   "metadata": {},
   "outputs": [
    {
     "data": {
      "text/plain": [
       "'TLFGBZHCN'"
      ]
     },
     "execution_count": 269,
     "metadata": {},
     "output_type": "execute_result"
    }
   ],
   "source": [
    "result = moves_to_action(moves,crates_to_lists(crates))\n",
    "''.join(line[-1] for line in result)"
   ]
  },
  {
   "cell_type": "code",
   "execution_count": 277,
   "metadata": {},
   "outputs": [],
   "source": [
    "def moves_to_action_2(moves,listofcrates):\n",
    "    get_moves = re.compile(r'move (\\d+) from (\\d+) to (\\d+)')\n",
    "    for move in moves:\n",
    "        qty,org,dest = [int(num) for num in get_moves.match(move).groups()]\n",
    "        if len(listofcrates[org-1])>=qty:\n",
    "            listofcrates[dest-1].extend(listofcrates[org-1][-qty:])\n",
    "            for _ in range(qty):\n",
    "                listofcrates[org-1].pop()\n",
    "        elif listofcrates[org-1]:\n",
    "            listofcrates[dest-1].extend(listofcrates[org-1][:len(listofcrates[org-1])])\n",
    "            listofcrates[org-1]=[]\n",
    "            \n",
    "    return listofcrates"
   ]
  },
  {
   "cell_type": "code",
   "execution_count": 279,
   "metadata": {},
   "outputs": [
    {
     "data": {
      "text/plain": [
       "'QRQFHFWCL'"
      ]
     },
     "execution_count": 279,
     "metadata": {},
     "output_type": "execute_result"
    }
   ],
   "source": [
    "result = moves_to_action_2(moves,crates_to_lists(crates))\n",
    "''.join(line[-1] for line in result)\n"
   ]
  },
  {
   "cell_type": "code",
   "execution_count": 38,
   "metadata": {},
   "outputs": [
    {
     "data": {
      "text/plain": [
       "0.5"
      ]
     },
     "execution_count": 38,
     "metadata": {},
     "output_type": "execute_result"
    }
   ],
   "source": [
    "1.5%1"
   ]
  },
  {
   "cell_type": "code",
   "execution_count": 80,
   "metadata": {},
   "outputs": [],
   "source": [
    "orders=[{\"tire\": 1, \"steeringWheel\": 2, \"totalPrice\": 31.56}]\n",
    "def correct_order(orders):\n",
    "\n",
    "    result=[]\n",
    "    for order in orders:\n",
    "        tire=[0.98+i for i in range(5,17)]\n",
    "        stw = [round((order[\"totalPrice\"]-order[\"tire\"]*i)/order[\"steeringWheel\"],2) for i in tire]\n",
    "        prices=[idx for idx in range(len(tire)) if (stw[idx]-tire[idx]<=3 and stw[idx]>tire[idx] and round(stw[idx]%1,2)==0.79)]\n",
    "        prices=prices[0]\n",
    "        result.append({\"tire\": 4, \"steeringWheel\": 1, \"totalPrice\": 4*tire[prices]+stw[prices]})\n",
    "    return result\n",
    "\n"
   ]
  },
  {
   "cell_type": "code",
   "execution_count": 81,
   "metadata": {},
   "outputs": [
    {
     "data": {
      "text/plain": [
       "[{'tire': 4, 'steeringWheel': 1, 'totalPrice': 50.71},\n",
       " {'tire': 4, 'steeringWheel': 1, 'totalPrice': 61.71}]"
      ]
     },
     "execution_count": 81,
     "metadata": {},
     "output_type": "execute_result"
    }
   ],
   "source": [
    "a = [\n",
    "            {\"tire\": 1, \"steeringWheel\": 2, \"totalPrice\": 31.56},\n",
    "            {\"tire\": 5, \"steeringWheel\": 1, \"totalPrice\": 73.69}\n",
    "        ]\n",
    "correct_order(a)"
   ]
  },
  {
   "cell_type": "markdown",
   "metadata": {},
   "source": [
    "## Day 6"
   ]
  },
  {
   "cell_type": "code",
   "execution_count": 82,
   "metadata": {},
   "outputs": [],
   "source": [
    "with open('day6.txt') as file:\n",
    "    data=file.read()"
   ]
  },
  {
   "cell_type": "code",
   "execution_count": 90,
   "metadata": {},
   "outputs": [
    {
     "data": {
      "text/plain": [
       "(1804, 2508)"
      ]
     },
     "execution_count": 90,
     "metadata": {},
     "output_type": "execute_result"
    }
   ],
   "source": [
    "def get_marker(input_,length=4):\n",
    "    for i in range(length,len(data)):\n",
    "        if len(set(data[i-length:i]))==length:\n",
    "            return i\n",
    "get_marker(data),get_marker(data,14)"
   ]
  },
  {
   "cell_type": "markdown",
   "metadata": {},
   "source": [
    "## day 7"
   ]
  },
  {
   "cell_type": "code",
   "execution_count": 1,
   "metadata": {},
   "outputs": [],
   "source": [
    "with open('day7.txt') as file:\n",
    "    data=file.read()"
   ]
  },
  {
   "cell_type": "code",
   "execution_count": 2,
   "metadata": {},
   "outputs": [],
   "source": [
    "data=data.splitlines()"
   ]
  },
  {
   "cell_type": "code",
   "execution_count": 3,
   "metadata": {},
   "outputs": [],
   "source": [
    "class File():\n",
    "    def __init__(self,name,path,size):\n",
    "        self.name=name\n",
    "        self.path=path\n",
    "        self.size=size\n",
    "\n",
    "class Folder():\n",
    "    def __init__(self,name,path):\n",
    "        self.name=name\n",
    "        self.path=path\n",
    "        self.files_contained=[]\n",
    "        self.direct_size=0\n",
    "        self.folders_contained=[]\n",
    "        self.indirect_size=0\n",
    "        self.total_size=0\n",
    "    def add_file(self,file):\n",
    "        self.files_contained.append(file)\n",
    "        self.direct_size+=file.size\n",
    "    def add_folder(self,folder):\n",
    "        self.folders_contained.append(folder)\n",
    "        return folder\n",
    "    def parse(self):\n",
    "        if self.folders_contained==[]:\n",
    "            return self.direct_size\n",
    "        return sum(folder.parse() for folder in self.folders_contained)\n",
    "    def update_size(self):\n",
    "        if self.folders_contained:\n",
    "            self.indirect_size=self.parse()\n",
    "            self.total_size=self.direct_size+self.indirect_size\n",
    "        else:\n",
    "            self.total_size=self.direct_size\n",
    "    def __repr__(self):\n",
    "        return self.path\n",
    "    def __str__(self):\n",
    "        return self.path   \n",
    "\n",
    "\n",
    "    "
   ]
  },
  {
   "cell_type": "code",
   "execution_count": 11,
   "metadata": {},
   "outputs": [
    {
     "data": {
      "text/plain": [
       "'/bladsadsa'"
      ]
     },
     "execution_count": 11,
     "metadata": {},
     "output_type": "execute_result"
    }
   ],
   "source": [
    "'/bladsadsa/bli'[:'/bladsadsa/bli'.rindex('/')]"
   ]
  },
  {
   "cell_type": "code",
   "execution_count": 12,
   "metadata": {},
   "outputs": [],
   "source": [
    "def navigate(active_dir,command):\n",
    "    if not active_dir:\n",
    "        return \"/\"\n",
    "    if active_dir==\"/\":\n",
    "        if command==\"..\":\n",
    "            return active_dir\n",
    "        return \"/\"+command\n",
    "    if command==\"..\":\n",
    "        return active_dir[:active_dir.rindex('/')]\n",
    "    return active_dir + \"/\" + command"
   ]
  },
  {
   "cell_type": "code",
   "execution_count": 13,
   "metadata": {},
   "outputs": [
    {
     "name": "stdout",
     "output_type": "stream",
     "text": [
      "/\n",
      "/jssbn\n",
      "/jssbn/lfrctthp\n",
      "/jssbn/lfrctthp/lfrctthp\n",
      "/jssbn/lfrctthp\n",
      "/jssbn/lfrctthp/srf\n",
      "/jssbn/lfrctthp/srf/rwvdvvsf\n",
      "/jssbn/lfrctthp/srf\n",
      "/jssbn/lfrctthp/srf/wvhhr\n",
      "/jssbn/lfrctthp/srf\n",
      "/jssbn/lfrctthp\n",
      "/jssbn\n",
      "/jssbn/pjzpjjq\n",
      "/jssbn/pjzpjjq/dvlb\n",
      "/jssbn/pjzpjjq/dvlb/bjfqsb\n",
      "/jssbn/pjzpjjq/dvlb/bjfqsb/jgltcw\n",
      "/jssbn/pjzpjjq/dvlb/bjfqsb\n",
      "/jssbn/pjzpjjq/dvlb\n",
      "/jssbn/pjzpjjq/dvlb/fnwsmj\n",
      "/jssbn/pjzpjjq/dvlb/fnwsmj/lfrctthp\n",
      "/jssbn/pjzpjjq/dvlb/fnwsmj/lfrctthp/qdgqdtn\n",
      "/jssbn/pjzpjjq/dvlb/fnwsmj/lfrctthp\n",
      "/jssbn/pjzpjjq/dvlb/fnwsmj/lfrctthp/sgddcfdn\n",
      "/jssbn/pjzpjjq/dvlb/fnwsmj/lfrctthp/sgddcfdn/lnjln\n",
      "/jssbn/pjzpjjq/dvlb/fnwsmj/lfrctthp/sgddcfdn\n",
      "/jssbn/pjzpjjq/dvlb/fnwsmj/lfrctthp\n",
      "/jssbn/pjzpjjq/dvlb/fnwsmj\n",
      "/jssbn/pjzpjjq/dvlb/fnwsmj/rddpmj\n",
      "/jssbn/pjzpjjq/dvlb/fnwsmj/rddpmj/fhlnmw\n",
      "/jssbn/pjzpjjq/dvlb/fnwsmj/rddpmj\n",
      "/jssbn/pjzpjjq/dvlb/fnwsmj\n",
      "/jssbn/pjzpjjq/dvlb\n",
      "/jssbn/pjzpjjq/dvlb/wlhfvwl\n",
      "/jssbn/pjzpjjq/dvlb/wlhfvwl/rbwq\n",
      "/jssbn/pjzpjjq/dvlb/wlhfvwl\n",
      "/jssbn/pjzpjjq/dvlb\n",
      "/jssbn/pjzpjjq/dvlb/wrgqqts\n",
      "/jssbn/pjzpjjq/dvlb\n",
      "/jssbn/pjzpjjq/dvlb/zhj\n",
      "/jssbn/pjzpjjq/dvlb/zhj/hww\n",
      "/jssbn/pjzpjjq/dvlb/zhj/hww/pnsbrd\n",
      "/jssbn/pjzpjjq/dvlb/zhj/hww\n",
      "/jssbn/pjzpjjq/dvlb/zhj\n",
      "/jssbn/pjzpjjq/dvlb/zhj/nqv\n",
      "/jssbn/pjzpjjq/dvlb/zhj/nqv/rjgbm\n",
      "/jssbn/pjzpjjq/dvlb/zhj/nqv\n",
      "/jssbn/pjzpjjq/dvlb/zhj/nqv/tlhttrgs\n",
      "/jssbn/pjzpjjq/dvlb/zhj/nqv/tlhttrgs/cqtnvzn\n",
      "/jssbn/pjzpjjq/dvlb/zhj/nqv/tlhttrgs\n",
      "/jssbn/pjzpjjq/dvlb/zhj/nqv\n",
      "/jssbn/pjzpjjq/dvlb/zhj\n",
      "/jssbn/pjzpjjq/dvlb\n",
      "/jssbn/pjzpjjq\n",
      "/jssbn/pjzpjjq/qlrn\n",
      "/jssbn/pjzpjjq/qlrn/jwgd\n",
      "/jssbn/pjzpjjq/qlrn\n",
      "/jssbn/pjzpjjq/qlrn/wbgvqpc\n",
      "/jssbn/pjzpjjq/qlrn/wbgvqpc/dvlb\n",
      "/jssbn/pjzpjjq/qlrn/wbgvqpc\n",
      "/jssbn/pjzpjjq/qlrn/wbgvqpc/qfhvjtv\n",
      "/jssbn/pjzpjjq/qlrn/wbgvqpc/qfhvjtv/mhbbpdpj\n",
      "/jssbn/pjzpjjq/qlrn/wbgvqpc/qfhvjtv/mhbbpdpj/ghrbbh\n",
      "/jssbn/pjzpjjq/qlrn/wbgvqpc/qfhvjtv/mhbbpdpj\n",
      "/jssbn/pjzpjjq/qlrn/wbgvqpc/qfhvjtv\n",
      "/jssbn/pjzpjjq/qlrn/wbgvqpc\n",
      "/jssbn/pjzpjjq/qlrn/wbgvqpc/tpcwhmv\n",
      "/jssbn/pjzpjjq/qlrn/wbgvqpc\n",
      "/jssbn/pjzpjjq/qlrn\n",
      "/jssbn/pjzpjjq\n",
      "/jssbn/pjzpjjq/vpltwcs\n",
      "/jssbn/pjzpjjq/vpltwcs/tlhttrgs\n",
      "/jssbn/pjzpjjq/vpltwcs/tlhttrgs/cchd\n",
      "/jssbn/pjzpjjq/vpltwcs/tlhttrgs\n",
      "/jssbn/pjzpjjq/vpltwcs\n",
      "/jssbn/pjzpjjq\n",
      "/jssbn\n",
      "/jssbn/rbtbtt\n",
      "/jssbn/rbtbtt/wqmvzg\n",
      "/jssbn/rbtbtt/wqmvzg/lzbj\n",
      "/jssbn/rbtbtt/wqmvzg/lzbj/tnhdmqjh\n",
      "/jssbn/rbtbtt/wqmvzg/lzbj\n",
      "/jssbn/rbtbtt/wqmvzg\n",
      "/jssbn/rbtbtt\n",
      "/jssbn\n",
      "/jssbn/tlhttrgs\n",
      "/jssbn/tlhttrgs/zjghthcb\n",
      "/jssbn/tlhttrgs/zjghthcb/dvlb\n",
      "/jssbn/tlhttrgs/zjghthcb\n",
      "/jssbn/tlhttrgs/zjghthcb/ghzsqrn\n",
      "/jssbn/tlhttrgs/zjghthcb/ghzsqrn/fngzpjm\n",
      "/jssbn/tlhttrgs/zjghthcb/ghzsqrn/fngzpjm/dvlb\n",
      "/jssbn/tlhttrgs/zjghthcb/ghzsqrn/fngzpjm\n",
      "/jssbn/tlhttrgs/zjghthcb/ghzsqrn/fngzpjm/ghzwdw\n",
      "/jssbn/tlhttrgs/zjghthcb/ghzsqrn/fngzpjm\n",
      "/jssbn/tlhttrgs/zjghthcb/ghzsqrn\n",
      "/jssbn/tlhttrgs/zjghthcb/ghzsqrn/mdqbvhrr\n",
      "/jssbn/tlhttrgs/zjghthcb/ghzsqrn\n",
      "/jssbn/tlhttrgs/zjghthcb/ghzsqrn/sfhqmzhd\n",
      "/jssbn/tlhttrgs/zjghthcb/ghzsqrn\n",
      "/jssbn/tlhttrgs/zjghthcb\n",
      "/jssbn/tlhttrgs/zjghthcb/hvwjc\n",
      "/jssbn/tlhttrgs/zjghthcb/hvwjc/nchvqtdq\n",
      "/jssbn/tlhttrgs/zjghthcb/hvwjc\n",
      "/jssbn/tlhttrgs/zjghthcb/hvwjc/wnj\n",
      "/jssbn/tlhttrgs/zjghthcb/hvwjc/wnj/dvlb\n",
      "/jssbn/tlhttrgs/zjghthcb/hvwjc/wnj/dvlb/cwjbzd\n",
      "/jssbn/tlhttrgs/zjghthcb/hvwjc/wnj/dvlb/cwjbzd/tlhttrgs\n",
      "/jssbn/tlhttrgs/zjghthcb/hvwjc/wnj/dvlb/cwjbzd\n",
      "/jssbn/tlhttrgs/zjghthcb/hvwjc/wnj/dvlb\n",
      "/jssbn/tlhttrgs/zjghthcb/hvwjc/wnj\n",
      "/jssbn/tlhttrgs/zjghthcb/hvwjc\n",
      "/jssbn/tlhttrgs/zjghthcb\n",
      "/jssbn/tlhttrgs/zjghthcb/lfrctthp\n",
      "/jssbn/tlhttrgs/zjghthcb/lfrctthp/thgh\n",
      "/jssbn/tlhttrgs/zjghthcb/lfrctthp/thgh/nrntbh\n",
      "/jssbn/tlhttrgs/zjghthcb/lfrctthp/thgh\n",
      "/jssbn/tlhttrgs/zjghthcb/lfrctthp/thgh/qlhbf\n",
      "/jssbn/tlhttrgs/zjghthcb/lfrctthp/thgh\n",
      "/jssbn/tlhttrgs/zjghthcb/lfrctthp\n",
      "/jssbn/tlhttrgs/zjghthcb/lfrctthp/zzffz\n",
      "/jssbn/tlhttrgs/zjghthcb/lfrctthp\n",
      "/jssbn/tlhttrgs/zjghthcb\n",
      "/jssbn/tlhttrgs\n",
      "/jssbn/tlhttrgs/zmlpwlm\n",
      "/jssbn/tlhttrgs\n",
      "/jssbn\n",
      "\n",
      "/\n",
      "/cwjbzd\n",
      "/cwjbzd/dfqpqqw\n",
      "/cwjbzd/dfqpqqw/rjm\n",
      "/cwjbzd/dfqpqqw\n",
      "/cwjbzd\n",
      "/cwjbzd/lfrctthp\n",
      "/cwjbzd/lfrctthp/fqswn\n",
      "/cwjbzd/lfrctthp/fqswn/dhgghnm\n",
      "/cwjbzd/lfrctthp/fqswn/dhgghnm/sppmmj\n",
      "/cwjbzd/lfrctthp/fqswn/dhgghnm/sppmmj/dsss\n",
      "/cwjbzd/lfrctthp/fqswn/dhgghnm/sppmmj\n",
      "/cwjbzd/lfrctthp/fqswn/dhgghnm\n",
      "/cwjbzd/lfrctthp/fqswn\n",
      "/cwjbzd/lfrctthp/fqswn/vpbwj\n",
      "/cwjbzd/lfrctthp/fqswn/vpbwj/tlhttrgs\n",
      "/cwjbzd/lfrctthp/fqswn/vpbwj\n",
      "/cwjbzd/lfrctthp/fqswn\n",
      "/cwjbzd/lfrctthp\n",
      "/cwjbzd\n",
      "/cwjbzd/sppmmj\n",
      "/cwjbzd/sppmmj/sppmmj\n",
      "/cwjbzd/sppmmj\n",
      "/cwjbzd\n",
      "\n",
      "/\n",
      "/dnqvhtr\n",
      "/dnqvhtr/jzm\n",
      "/dnqvhtr/jzm/smtpdcpf\n",
      "/dnqvhtr/jzm\n",
      "/dnqvhtr\n",
      "/dnqvhtr/phcfgqfs\n",
      "/dnqvhtr\n",
      "/dnqvhtr/sppmmj\n",
      "/dnqvhtr/sppmmj/hmcn\n",
      "/dnqvhtr/sppmmj\n",
      "/dnqvhtr/sppmmj/mrhsrrm\n",
      "/dnqvhtr/sppmmj\n",
      "/dnqvhtr/sppmmj/nlqmghj\n",
      "/dnqvhtr/sppmmj\n",
      "/dnqvhtr/sppmmj/rqbtcvfw\n",
      "/dnqvhtr/sppmmj\n",
      "/dnqvhtr\n",
      "/dnqvhtr/vhrst\n",
      "/dnqvhtr\n",
      "\n",
      "/\n",
      "/\n",
      "/jvvsgbl\n",
      "/jvvsgbl/fbvls\n",
      "/jvvsgbl\n",
      "/jvvsgbl/gtwrhhd\n",
      "/jvvsgbl\n",
      "/jvvsgbl/tlhttrgs\n",
      "/jvvsgbl/tlhttrgs/dvlb\n",
      "/jvvsgbl/tlhttrgs\n",
      "/jvvsgbl/tlhttrgs/hjclnb\n",
      "/jvvsgbl/tlhttrgs\n",
      "/jvvsgbl\n",
      "\n",
      "/\n",
      "/\n",
      "/\n",
      "/lwqdqm\n",
      "/lwqdqm/bdgnmf\n",
      "/lwqdqm\n",
      "/lwqdqm/dvlb\n",
      "/lwqdqm\n",
      "\n",
      "/\n",
      "/dvlb\n",
      "/dvlb/prqfqf\n",
      "/dvlb/prqfqf/ltmjppj\n",
      "/dvlb/prqfqf\n",
      "/dvlb\n",
      "\n",
      "/\n",
      "/ndn\n",
      "/ndn/hfq\n",
      "/ndn/hfq/bsjgglbs\n",
      "/ndn/hfq\n",
      "/ndn\n",
      "\n",
      "/\n",
      "/sdssvrst\n",
      "\n",
      "/\n",
      "/sqhvvsb\n",
      "/sqhvvsb/ldmwm\n",
      "/sqhvvsb/ldmwm/cwjbzd\n",
      "/sqhvvsb/ldmwm/cwjbzd/llcflrds\n",
      "/sqhvvsb/ldmwm/cwjbzd/llcflrds/cngdgq\n",
      "/sqhvvsb/ldmwm/cwjbzd/llcflrds\n",
      "/sqhvvsb/ldmwm/cwjbzd\n",
      "/sqhvvsb/ldmwm/cwjbzd/tlhttrgs\n",
      "/sqhvvsb/ldmwm/cwjbzd/tlhttrgs/cgf\n",
      "/sqhvvsb/ldmwm/cwjbzd/tlhttrgs/cgf/dvlb\n",
      "/sqhvvsb/ldmwm/cwjbzd/tlhttrgs/cgf\n",
      "/sqhvvsb/ldmwm/cwjbzd/tlhttrgs\n",
      "/sqhvvsb/ldmwm/cwjbzd/tlhttrgs/cwjbzd\n",
      "/sqhvvsb/ldmwm/cwjbzd/tlhttrgs\n",
      "/sqhvvsb/ldmwm/cwjbzd/tlhttrgs/jvs\n",
      "/sqhvvsb/ldmwm/cwjbzd/tlhttrgs\n",
      "/sqhvvsb/ldmwm/cwjbzd/tlhttrgs/ppsmqwn\n",
      "/sqhvvsb/ldmwm/cwjbzd/tlhttrgs\n",
      "/sqhvvsb/ldmwm/cwjbzd/tlhttrgs/qqmtj\n",
      "/sqhvvsb/ldmwm/cwjbzd/tlhttrgs\n",
      "/sqhvvsb/ldmwm/cwjbzd/tlhttrgs/qzmpwzvz\n",
      "/sqhvvsb/ldmwm/cwjbzd/tlhttrgs\n",
      "/sqhvvsb/ldmwm/cwjbzd/tlhttrgs/zmsbqrqf\n",
      "/sqhvvsb/ldmwm/cwjbzd/tlhttrgs\n",
      "/sqhvvsb/ldmwm/cwjbzd\n",
      "/sqhvvsb/ldmwm/cwjbzd/wtcttdzg\n",
      "/sqhvvsb/ldmwm/cwjbzd\n",
      "/sqhvvsb/ldmwm\n",
      "/sqhvvsb/ldmwm/jdsbt\n",
      "/sqhvvsb/ldmwm\n",
      "/sqhvvsb\n",
      "\n",
      "/\n",
      "/ccbjg\n",
      "/ccbjg/mcvsbd\n",
      "/ccbjg/mcvsbd/cwjbzd\n",
      "/ccbjg/mcvsbd\n",
      "/ccbjg/mcvsbd/rbsv\n",
      "/ccbjg/mcvsbd\n",
      "/ccbjg\n",
      "/ccbjg/sppmmj\n",
      "/ccbjg\n",
      "\n",
      "/\n",
      "/zzvnq\n",
      "/zzvnq/lznpqbrd\n",
      "/zzvnq/lznpqbrd/dvlb\n",
      "/zzvnq/lznpqbrd\n",
      "/zzvnq/lznpqbrd/lfrctthp\n",
      "/zzvnq/lznpqbrd/lfrctthp/sppmmj\n",
      "/zzvnq/lznpqbrd/lfrctthp\n",
      "/zzvnq/lznpqbrd\n",
      "/zzvnq\n",
      "/zzvnq/pddfg\n",
      "/zzvnq/pddfg/cwjbzd\n",
      "/zzvnq/pddfg\n",
      "/zzvnq/pddfg/jbw\n",
      "/zzvnq/pddfg\n",
      "/zzvnq\n",
      "/zzvnq/pvdz\n",
      "/zzvnq/pvdz/jctpqbgw\n",
      "/zzvnq/pvdz\n",
      "/zzvnq\n",
      "/zzvnq/vnmhs\n",
      "/zzvnq\n",
      "\n",
      "/\n",
      "/ltwmz\n",
      "\n",
      "/\n",
      "/jqcms\n",
      "/jqcms/cwjbzd\n",
      "/jqcms/cwjbzd/mwvlhzdn\n",
      "/jqcms/cwjbzd\n",
      "/jqcms/cwjbzd/qrpllg\n",
      "/jqcms/cwjbzd\n",
      "/jqcms\n",
      "/jqcms/jzqbnpn\n",
      "/jqcms\n",
      "/jqcms/ssr\n",
      "/jqcms\n",
      "\n",
      "/\n",
      "/drtrdnsg\n",
      "/drtrdnsg/gnc\n",
      "/drtrdnsg\n",
      "/drtrdnsg/sppmmj\n",
      "/drtrdnsg/sppmmj/mdmh\n",
      "/drtrdnsg/sppmmj/mdmh/zvtjfz\n",
      "/drtrdnsg/sppmmj/mdmh\n",
      "/drtrdnsg/sppmmj\n",
      "/drtrdnsg/sppmmj/nbzh\n",
      "/drtrdnsg/sppmmj\n",
      "/drtrdnsg/sppmmj/wwhbgg\n",
      "/drtrdnsg/sppmmj\n",
      "/drtrdnsg\n",
      "\n",
      "/\n",
      "/\n",
      "/\n",
      "/lvchpdf\n",
      "/lvchpdf/njfmmj\n",
      "/lvchpdf/njfmmj/bjsvdfrf\n",
      "/lvchpdf/njfmmj\n",
      "/lvchpdf/njfmmj/gjgftj\n",
      "/lvchpdf/njfmmj/gjgftj/mjbw\n",
      "/lvchpdf/njfmmj/gjgftj\n",
      "/lvchpdf/njfmmj\n",
      "/lvchpdf/njfmmj/sppmmj\n",
      "/lvchpdf/njfmmj/sppmmj/qzvwhr\n",
      "/lvchpdf/njfmmj/sppmmj/qzvwhr/cwjbzd\n",
      "/lvchpdf/njfmmj/sppmmj/qzvwhr\n",
      "/lvchpdf/njfmmj/sppmmj\n",
      "/lvchpdf/njfmmj\n",
      "/lvchpdf\n",
      "/lvchpdf/nsw\n",
      "/lvchpdf\n",
      "/lvchpdf/sppmmj\n",
      "/lvchpdf/sppmmj/rdd\n",
      "/lvchpdf/sppmmj\n",
      "/lvchpdf/sppmmj/tlhttrgs\n",
      "/lvchpdf/sppmmj\n",
      "/lvchpdf/sppmmj/zbq\n",
      "/lvchpdf/sppmmj\n",
      "/lvchpdf\n",
      "/lvchpdf/tlhttrgs\n",
      "/lvchpdf/tlhttrgs/mjcmhg\n",
      "/lvchpdf/tlhttrgs\n",
      "/lvchpdf/tlhttrgs/tlhttrgs\n",
      "/lvchpdf/tlhttrgs/tlhttrgs/qtws\n",
      "/lvchpdf/tlhttrgs/tlhttrgs\n",
      "/lvchpdf/tlhttrgs/tlhttrgs/sbhswjld\n",
      "/lvchpdf/tlhttrgs/tlhttrgs/sbhswjld/sppmmj\n",
      "/lvchpdf/tlhttrgs/tlhttrgs/sbhswjld\n",
      "/lvchpdf/tlhttrgs/tlhttrgs\n",
      "/lvchpdf/tlhttrgs\n",
      "/lvchpdf\n",
      "/lvchpdf/tvsvr\n",
      "/lvchpdf\n",
      "\n",
      "/\n",
      "/ddclns\n",
      "/ddclns/vprlq\n",
      "/ddclns\n",
      "\n",
      "/\n",
      "/qrgh\n",
      "\n",
      "/\n",
      "/sppmmj\n",
      "/sppmmj/sppmmj\n",
      "/sppmmj\n",
      "\n",
      "/\n",
      "/\n",
      "/vhj\n",
      "/vhj/jnm\n",
      "/vhj/jnm/sppmmj\n",
      "/vhj/jnm/sppmmj/lfrctthp\n",
      "/vhj/jnm/sppmmj\n",
      "/vhj/jnm\n",
      "/vhj\n",
      "/vhj/lfrctthp\n",
      "/vhj\n",
      "/vhj/tlhttrgs\n"
     ]
    }
   ],
   "source": [
    "list_of_folders=[Folder('/','/')]\n",
    "active_dir = \"\"\n",
    "index=0\n",
    "for line in data:\n",
    "    if line.startswith('$ cd'):\n",
    "        active_dir = navigate(active_dir,line.split(\" \")[-1])\n",
    "        print(active_dir)\n",
    "        index = next((i for i, item in enumerate(list_of_folders) if item.path == active_dir), -1)\n",
    "    if line[0].isnumeric():\n",
    "        list_of_folders[index].add_file(File(line.split(' ')[1],active_dir,int(line.split(' ')[0])))\n",
    "    if line.startswith('dir'):\n",
    "        list_of_folders.append(list_of_folders[index].add_folder(Folder(line.split('dir ')[1],active_dir+'/'+line.split('dir ')[1])))\n",
    "for folder in list_of_folders:\n",
    "    folder.update_size()\n",
    "        "
   ]
  },
  {
   "cell_type": "code",
   "execution_count": 14,
   "metadata": {},
   "outputs": [
    {
     "data": {
      "text/plain": [
       "1047663"
      ]
     },
     "execution_count": 14,
     "metadata": {},
     "output_type": "execute_result"
    }
   ],
   "source": [
    "sum([folder.total_size for folder in list_of_folders if folder.total_size<=100000])"
   ]
  },
  {
   "cell_type": "code",
   "execution_count": 15,
   "metadata": {},
   "outputs": [
    {
     "data": {
      "text/plain": [
       "[('/', 3600885, 18239322),\n",
       " ('//jssbn', 0, 0),\n",
       " ('//lfrctthp', 0, 0),\n",
       " ('//ltwmz', 0, 0),\n",
       " ('//nmzntmcf', 0, 0),\n",
       " ('//vhj', 89372, 4386662),\n",
       " ('/jssbn/lfrctthp', 367986, 4665276),\n",
       " ('/jssbn/pjzpjjq', 723798, 4832363),\n",
       " ('/jssbn/rbtbtt', 503141, 2521117),\n",
       " ('/jssbn/tlhttrgs', 248929, 2261755),\n",
       " ('/jssbn/lfrctthp/lfrctthp', 25083, 25083),\n",
       " ('/jssbn/lfrctthp/srf', 396112, 559754),\n",
       " ('/jssbn/lfrctthp/srf/rwvdvvsf', 153197, 153197),\n",
       " ('/jssbn/lfrctthp/srf/wvhhr', 10445, 10445),\n",
       " ('/jssbn/pjzpjjq/dvlb', 419050, 2179441),\n",
       " ('/jssbn/pjzpjjq/qlrn', 610960, 815114),\n",
       " ('/jssbn/pjzpjjq/vpltwcs', 146745, 272789),\n",
       " ('/jssbn/pjzpjjq/dvlb/bjfqsb', 0, 264579),\n",
       " ('/jssbn/pjzpjjq/dvlb/fnwsmj', 0, 488198),\n",
       " ('/jssbn/pjzpjjq/dvlb/wlhfvwl', 0, 205483),\n",
       " ('/jssbn/pjzpjjq/dvlb/wrgqqts', 124869, 124869),\n",
       " ('/jssbn/pjzpjjq/dvlb/zhj', 192363, 869625),\n",
       " ('/jssbn/pjzpjjq/dvlb/bjfqsb/jgltcw', 264579, 264579),\n",
       " ('/jssbn/pjzpjjq/dvlb/fnwsmj/lfrctthp', 198919, 458246),\n",
       " ('/jssbn/pjzpjjq/dvlb/fnwsmj/rddpmj', 0, 228871),\n",
       " ('/jssbn/pjzpjjq/dvlb/fnwsmj/lfrctthp/qdgqdtn', 230357, 230357),\n",
       " ('/jssbn/pjzpjjq/dvlb/fnwsmj/lfrctthp/sgddcfdn', 317762, 346732),\n",
       " ('/jssbn/pjzpjjq/dvlb/fnwsmj/lfrctthp/sgddcfdn/lnjln', 28970, 28970),\n",
       " ('/jssbn/pjzpjjq/dvlb/fnwsmj/rddpmj/fhlnmw', 228871, 228871),\n",
       " ('/jssbn/pjzpjjq/dvlb/wlhfvwl/rbwq', 205483, 205483),\n",
       " ('/jssbn/pjzpjjq/dvlb/zhj/hww', 646988, 881861),\n",
       " ('/jssbn/pjzpjjq/dvlb/zhj/nqv', 858621, 1301010),\n",
       " ('/jssbn/pjzpjjq/dvlb/zhj/hww/pnsbrd', 234873, 234873),\n",
       " ('/jssbn/pjzpjjq/dvlb/zhj/nqv/rjgbm', 392780, 392780),\n",
       " ('/jssbn/pjzpjjq/dvlb/zhj/nqv/tlhttrgs', 220458, 270067),\n",
       " ('/jssbn/pjzpjjq/dvlb/zhj/nqv/tlhttrgs/cqtnvzn', 49609, 49609),\n",
       " ('/jssbn/pjzpjjq/qlrn/jwgd', 57414, 57414),\n",
       " ('/jssbn/pjzpjjq/qlrn/wbgvqpc', 0, 146740),\n",
       " ('/jssbn/pjzpjjq/qlrn/wbgvqpc/dvlb', 118388, 118388),\n",
       " ('/jssbn/pjzpjjq/qlrn/wbgvqpc/qfhvjtv', 222200, 246886),\n",
       " ('/jssbn/pjzpjjq/qlrn/wbgvqpc/tpcwhmv', 3666, 3666),\n",
       " ('/jssbn/pjzpjjq/qlrn/wbgvqpc/qfhvjtv/mhbbpdpj', 0, 24686),\n",
       " ('/jssbn/pjzpjjq/qlrn/wbgvqpc/qfhvjtv/mhbbpdpj/ghrbbh', 24686, 24686),\n",
       " ('/jssbn/pjzpjjq/vpltwcs/tlhttrgs', 337963, 464007),\n",
       " ('/jssbn/pjzpjjq/vpltwcs/tlhttrgs/cchd', 126044, 126044),\n",
       " ('/jssbn/rbtbtt/wqmvzg', 0, 5150),\n",
       " ('/jssbn/rbtbtt/wqmvzg/lzbj', 0, 5150),\n",
       " ('/jssbn/rbtbtt/wqmvzg/lzbj/tnhdmqjh', 5150, 5150),\n",
       " ('/jssbn/tlhttrgs/zjghthcb', 0, 1780182),\n",
       " ('/jssbn/tlhttrgs/zmlpwlm', 232644, 232644),\n",
       " ('/jssbn/tlhttrgs/zjghthcb/dvlb', 237944, 237944),\n",
       " ('/jssbn/tlhttrgs/zjghthcb/ghzsqrn', 565016, 1390691),\n",
       " ('/jssbn/tlhttrgs/zjghthcb/hvwjc', 845218, 1135413),\n",
       " ('/jssbn/tlhttrgs/zjghthcb/lfrctthp', 515930, 942298),\n",
       " ('/jssbn/tlhttrgs/zjghthcb/ghzsqrn/fngzpjm', 0, 734184),\n",
       " ('/jssbn/tlhttrgs/zjghthcb/ghzsqrn/mdqbvhrr', 32598, 32598),\n",
       " ('/jssbn/tlhttrgs/zjghthcb/ghzsqrn/sfhqmzhd', 58893, 58893),\n",
       " ('/jssbn/tlhttrgs/zjghthcb/ghzsqrn/fngzpjm/dvlb', 502558, 502558),\n",
       " ('/jssbn/tlhttrgs/zjghthcb/ghzsqrn/fngzpjm/ghzwdw', 231626, 231626),\n",
       " ('/jssbn/tlhttrgs/zjghthcb/hvwjc/nchvqtdq', 49931, 49931),\n",
       " ('/jssbn/tlhttrgs/zjghthcb/hvwjc/wnj', 411323, 651587),\n",
       " ('/jssbn/tlhttrgs/zjghthcb/hvwjc/wnj/dvlb', 0, 240264),\n",
       " ('/jssbn/tlhttrgs/zjghthcb/hvwjc/wnj/dvlb/cwjbzd', 0, 240264),\n",
       " ('/jssbn/tlhttrgs/zjghthcb/hvwjc/wnj/dvlb/cwjbzd/tlhttrgs', 240264, 240264),\n",
       " ('/jssbn/tlhttrgs/zjghthcb/lfrctthp/thgh', 0, 255855),\n",
       " ('/jssbn/tlhttrgs/zjghthcb/lfrctthp/zzffz', 170513, 170513),\n",
       " ('/jssbn/tlhttrgs/zjghthcb/lfrctthp/thgh/nrntbh', 139964, 139964),\n",
       " ('/jssbn/tlhttrgs/zjghthcb/lfrctthp/thgh/qlhbf', 115891, 115891),\n",
       " ('//cwjbzd', 0, 0),\n",
       " ('//dvlb', 0, 0),\n",
       " ('//lwqdqm', 0, 0),\n",
       " ('//mpb', 0, 0),\n",
       " ('//ndn', 0, 0),\n",
       " ('//rtpwjds', 0, 0),\n",
       " ('//sqhvvsb', 0, 0),\n",
       " ('//vzh', 0, 0),\n",
       " ('//zzvnq', 172122, 705958),\n",
       " ('/cwjbzd/dfqpqqw', 67239, 601075),\n",
       " ('/cwjbzd/lfrctthp', 646129, 1154135),\n",
       " ('/cwjbzd/sppmmj', 114128, 275515),\n",
       " ('/cwjbzd/dfqpqqw/rjm', 25830, 25830),\n",
       " ('/cwjbzd/lfrctthp/fqswn', 76154, 422773),\n",
       " ('/cwjbzd/lfrctthp/fqswn/dhgghnm', 36757, 238276),\n",
       " ('/cwjbzd/lfrctthp/fqswn/vpbwj', 425708, 570808),\n",
       " ('/cwjbzd/lfrctthp/fqswn/dhgghnm/sppmmj', 0, 201519),\n",
       " ('/cwjbzd/lfrctthp/fqswn/dhgghnm/sppmmj/dsss', 201519, 201519),\n",
       " ('/cwjbzd/lfrctthp/fqswn/vpbwj/tlhttrgs', 145100, 145100),\n",
       " ('/cwjbzd/sppmmj/sppmmj', 161387, 161387),\n",
       " ('//dnqvhtr', 0, 0),\n",
       " ('//jqpzj', 0, 0),\n",
       " ('//jvvsgbl', 0, 0),\n",
       " ('//tlhttrgs', 0, 1196596),\n",
       " ('/dnqvhtr/jzm', 143413, 1340009),\n",
       " ('/dnqvhtr/phcfgqfs', 257801, 1358450),\n",
       " ('/dnqvhtr/sppmmj', 902631, 2003280),\n",
       " ('/dnqvhtr/vhrst', 102273, 102273),\n",
       " ('/dnqvhtr/jzm/smtpdcpf', 95947, 95947),\n",
       " ('/dnqvhtr/sppmmj/hmcn', 421449, 421449),\n",
       " ('/dnqvhtr/sppmmj/mrhsrrm', 126589, 126589),\n",
       " ('/dnqvhtr/sppmmj/nlqmghj', 113621, 113621),\n",
       " ('/dnqvhtr/sppmmj/rqbtcvfw', 477212, 813929),\n",
       " ('/jvvsgbl/fbvls', 146823, 483540),\n",
       " ('/jvvsgbl/gtwrhhd', 59762, 396479),\n",
       " ('/jvvsgbl/tlhttrgs', 66813, 403530),\n",
       " ('/jvvsgbl/tlhttrgs/dvlb', 62683, 62683),\n",
       " ('/jvvsgbl/tlhttrgs/hjclnb', 412610, 686644),\n",
       " ('/lwqdqm/bdgnmf', 146880, 420914),\n",
       " ('/lwqdqm/dvlb', 274034, 274034),\n",
       " ('//dvlb', 0, 121761),\n",
       " ('/dvlb/prqfqf', 0, 121761),\n",
       " ('/dvlb/prqfqf/ltmjppj', 479151, 600912),\n",
       " ('/ndn/hfq', 784872, 906633),\n",
       " ('/ndn/hfq/bsjgglbs', 121761, 121761),\n",
       " ('//sdssvrst', 361306, 2855216),\n",
       " ('/sqhvvsb/ldmwm', 894544, 3388454),\n",
       " ('/sqhvvsb/ldmwm/cwjbzd', 337780, 2154697),\n",
       " ('/sqhvvsb/ldmwm/jdsbt', 676993, 676993),\n",
       " ('/sqhvvsb/ldmwm/cwjbzd/llcflrds', 0, 235724),\n",
       " ('/sqhvvsb/ldmwm/cwjbzd/tlhttrgs', 186894, 1605101),\n",
       " ('/sqhvvsb/ldmwm/cwjbzd/wtcttdzg', 162986, 162986),\n",
       " ('/sqhvvsb/ldmwm/cwjbzd/llcflrds/cngdgq', 235724, 235724),\n",
       " ('/sqhvvsb/ldmwm/cwjbzd/tlhttrgs/cgf', 0, 77864),\n",
       " ('/sqhvvsb/ldmwm/cwjbzd/tlhttrgs/cwjbzd', 225586, 225586),\n",
       " ('/sqhvvsb/ldmwm/cwjbzd/tlhttrgs/jvs', 142337, 142337),\n",
       " ('/sqhvvsb/ldmwm/cwjbzd/tlhttrgs/ppsmqwn', 147277, 147277),\n",
       " ('/sqhvvsb/ldmwm/cwjbzd/tlhttrgs/qqmtj', 153442, 153442),\n",
       " ('/sqhvvsb/ldmwm/cwjbzd/tlhttrgs/qzmpwzvz', 478036, 478036),\n",
       " ('/sqhvvsb/ldmwm/cwjbzd/tlhttrgs/zmsbqrqf', 193665, 193665),\n",
       " ('/sqhvvsb/ldmwm/cwjbzd/tlhttrgs/cgf/dvlb', 77864, 77864),\n",
       " ('//ccbjg', 0, 1998154),\n",
       " ('/ccbjg/mcvsbd', 0, 1998154),\n",
       " ('/ccbjg/sppmmj', 471833, 471833),\n",
       " ('/ccbjg/mcvsbd/cwjbzd', 224826, 224826),\n",
       " ('/ccbjg/mcvsbd/rbsv', 272206, 1573701),\n",
       " ('/zzvnq/lznpqbrd', 417949, 1719444),\n",
       " ('/zzvnq/pddfg', 290906, 1304436),\n",
       " ('/zzvnq/pvdz', 247863, 816231),\n",
       " ('/zzvnq/vnmhs', 134792, 134792),\n",
       " ('/zzvnq/lznpqbrd/dvlb', 41223, 41223),\n",
       " ('/zzvnq/lznpqbrd/lfrctthp', 316313, 563055),\n",
       " ('/zzvnq/lznpqbrd/lfrctthp/sppmmj', 246742, 246742),\n",
       " ('/zzvnq/pddfg/cwjbzd', 197956, 197956),\n",
       " ('/zzvnq/pddfg/jbw', 247206, 247206),\n",
       " ('/zzvnq/pvdz/jctpqbgw', 433576, 433576),\n",
       " ('//jqcms', 0, 0),\n",
       " ('//lrtsts', 0, 0),\n",
       " ('//lvchpdf', 0, 0),\n",
       " ('//qpzqp', 0, 0),\n",
       " ('//qrgh', 0, 0),\n",
       " ('//scwnmrds', 363074, 1247209),\n",
       " ('/jqcms/cwjbzd', 205638, 1089773),\n",
       " ('/jqcms/jzqbnpn', 112583, 508250),\n",
       " ('/jqcms/ssr', 395667, 395667),\n",
       " ('/jqcms/cwjbzd/mwvlhzdn', 272658, 272658),\n",
       " ('/jqcms/cwjbzd/qrpllg', 215810, 215810),\n",
       " ('//drtrdnsg', 0, 0),\n",
       " ('//lfrctthp', 0, 1937840),\n",
       " ('/drtrdnsg/gnc', 385094, 2322934),\n",
       " ('/drtrdnsg/sppmmj', 319859, 2257699),\n",
       " ('/drtrdnsg/sppmmj/mdmh', 0, 1517716),\n",
       " ('/drtrdnsg/sppmmj/nbzh', 368372, 368372),\n",
       " ('/drtrdnsg/sppmmj/wwhbgg', 51752, 51752),\n",
       " ('/drtrdnsg/sppmmj/mdmh/zvtjfz', 356351, 1874067),\n",
       " ('/lvchpdf/njfmmj', 25879, 1543595),\n",
       " ('/lvchpdf/nsw', 210254, 1143882),\n",
       " ('/lvchpdf/sppmmj', 599899, 1533527),\n",
       " ('/lvchpdf/tlhttrgs', 519868, 1162244),\n",
       " ('/lvchpdf/tvsvr', 237626, 237626),\n",
       " ('/lvchpdf/njfmmj/bjsvdfrf', 77668, 77668),\n",
       " ('/lvchpdf/njfmmj/gjgftj', 56593, 300188),\n",
       " ('/lvchpdf/njfmmj/sppmmj', 0, 262825),\n",
       " ('/lvchpdf/njfmmj/gjgftj/mjbw', 243595, 243595),\n",
       " ('/lvchpdf/njfmmj/sppmmj/qzvwhr', 0, 262825),\n",
       " ('/lvchpdf/njfmmj/sppmmj/qzvwhr/cwjbzd', 262825, 262825),\n",
       " ('/lvchpdf/sppmmj/rdd', 20045, 20045),\n",
       " ('/lvchpdf/sppmmj/tlhttrgs', 47256, 47256),\n",
       " ('/lvchpdf/sppmmj/zbq', 223951, 223951),\n",
       " ('/lvchpdf/tlhttrgs/mjcmhg', 214188, 214188),\n",
       " ('/lvchpdf/tlhttrgs/tlhttrgs', 0, 190562),\n",
       " ('/lvchpdf/tlhttrgs/tlhttrgs/qtws', 102462, 102462),\n",
       " ('/lvchpdf/tlhttrgs/tlhttrgs/sbhswjld', 243763, 331863),\n",
       " ('/lvchpdf/tlhttrgs/tlhttrgs/sbhswjld/sppmmj', 88100, 88100),\n",
       " ('//ddclns', 0, 552176),\n",
       " ('/ddclns/vprlq', 552176, 552176),\n",
       " ('//sppmmj', 0, 622739),\n",
       " ('/sppmmj/sppmmj', 501903, 1124642),\n",
       " ('/vhj/jnm', 603328, 1226067),\n",
       " ('/vhj/lfrctthp', 289048, 541728),\n",
       " ('/vhj/tlhttrgs', 252680, 252680),\n",
       " ('/vhj/jnm/sppmmj', 300169, 670228),\n",
       " ('/vhj/jnm/sppmmj/lfrctthp', 370059, 370059)]"
      ]
     },
     "execution_count": 15,
     "metadata": {},
     "output_type": "execute_result"
    }
   ],
   "source": [
    "[(folder.path,folder.direct_size,folder.total_size) for folder in list_of_folders]"
   ]
  },
  {
   "cell_type": "code",
   "execution_count": 16,
   "metadata": {},
   "outputs": [
    {
     "data": {
      "text/plain": [
       "40913445"
      ]
     },
     "execution_count": 16,
     "metadata": {},
     "output_type": "execute_result"
    }
   ],
   "source": [
    "sum(int(line.split(\" \")[0]) for line in data if line[0].isnumeric())"
   ]
  },
  {
   "cell_type": "code",
   "execution_count": 148,
   "metadata": {},
   "outputs": [
    {
     "data": {
      "text/plain": [
       "913445"
      ]
     },
     "execution_count": 148,
     "metadata": {},
     "output_type": "execute_result"
    }
   ],
   "source": [
    "30000000-(70000000-40913445)"
   ]
  },
  {
   "cell_type": "code",
   "execution_count": 17,
   "metadata": {},
   "outputs": [
    {
     "data": {
      "text/plain": [
       "[('/jssbn/tlhttrgs/zjghthcb/lfrctthp', 515930, 942298),\n",
       " ('/jqcms/cwjbzd', 205638, 1089773),\n",
       " ('/sppmmj/sppmmj', 501903, 1124642),\n",
       " ('/jssbn/tlhttrgs/zjghthcb/hvwjc', 845218, 1135413),\n",
       " ('/lvchpdf/nsw', 210254, 1143882),\n",
       " ('/cwjbzd/lfrctthp', 646129, 1154135),\n",
       " ('/lvchpdf/tlhttrgs', 519868, 1162244),\n",
       " ('//tlhttrgs', 0, 1196596),\n",
       " ('/vhj/jnm', 603328, 1226067),\n",
       " ('//scwnmrds', 363074, 1247209),\n",
       " ('/jssbn/pjzpjjq/dvlb/zhj/nqv', 858621, 1301010),\n",
       " ('/zzvnq/pddfg', 290906, 1304436),\n",
       " ('/dnqvhtr/jzm', 143413, 1340009),\n",
       " ('/dnqvhtr/phcfgqfs', 257801, 1358450),\n",
       " ('/jssbn/tlhttrgs/zjghthcb/ghzsqrn', 565016, 1390691),\n",
       " ('/drtrdnsg/sppmmj/mdmh', 0, 1517716),\n",
       " ('/lvchpdf/sppmmj', 599899, 1533527),\n",
       " ('/lvchpdf/njfmmj', 25879, 1543595),\n",
       " ('/ccbjg/mcvsbd/rbsv', 272206, 1573701),\n",
       " ('/sqhvvsb/ldmwm/cwjbzd/tlhttrgs', 186894, 1605101),\n",
       " ('/zzvnq/lznpqbrd', 417949, 1719444),\n",
       " ('/jssbn/tlhttrgs/zjghthcb', 0, 1780182),\n",
       " ('/drtrdnsg/sppmmj/mdmh/zvtjfz', 356351, 1874067),\n",
       " ('//lfrctthp', 0, 1937840),\n",
       " ('//ccbjg', 0, 1998154),\n",
       " ('/ccbjg/mcvsbd', 0, 1998154),\n",
       " ('/dnqvhtr/sppmmj', 902631, 2003280),\n",
       " ('/sqhvvsb/ldmwm/cwjbzd', 337780, 2154697),\n",
       " ('/jssbn/pjzpjjq/dvlb', 419050, 2179441),\n",
       " ('/drtrdnsg/sppmmj', 319859, 2257699),\n",
       " ('/jssbn/tlhttrgs', 248929, 2261755),\n",
       " ('/drtrdnsg/gnc', 385094, 2322934),\n",
       " ('/jssbn/rbtbtt', 503141, 2521117),\n",
       " ('//sdssvrst', 361306, 2855216),\n",
       " ('/sqhvvsb/ldmwm', 894544, 3388454),\n",
       " ('//vhj', 89372, 4386662),\n",
       " ('/jssbn/lfrctthp', 367986, 4665276),\n",
       " ('/jssbn/pjzpjjq', 723798, 4832363),\n",
       " ('/', 3600885, 18239322)]"
      ]
     },
     "execution_count": 17,
     "metadata": {},
     "output_type": "execute_result"
    }
   ],
   "source": [
    "sorted([(folder.path,folder.direct_size,folder.total_size) for folder in list_of_folders if folder.total_size>=913445],key=lambda x: x[2])"
   ]
  },
  {
   "cell_type": "markdown",
   "metadata": {},
   "source": [
    "## Day 8"
   ]
  },
  {
   "cell_type": "code",
   "execution_count": 23,
   "metadata": {},
   "outputs": [],
   "source": [
    "with open('day8.txt') as file:\n",
    "    data=file.read()"
   ]
  },
  {
   "cell_type": "code",
   "execution_count": 27,
   "metadata": {},
   "outputs": [],
   "source": [
    "import numpy as np"
   ]
  },
  {
   "cell_type": "code",
   "execution_count": 30,
   "metadata": {},
   "outputs": [],
   "source": [
    "forest = np.array([[int(char) for char in line] for line in data.splitlines()])"
   ]
  },
  {
   "cell_type": "code",
   "execution_count": 57,
   "metadata": {},
   "outputs": [
    {
     "data": {
      "text/plain": [
       "1859"
      ]
     },
     "execution_count": 57,
     "metadata": {},
     "output_type": "execute_result"
    }
   ],
   "source": [
    "# part 1 count visible trees in forest\n",
    "visible=0\n",
    "def is_visible(forest,tree,index):\n",
    "    if any(coord==0 or coord==98 for coord in index):\n",
    "        return True\n",
    "    #left\n",
    "    if forest[index[0],:index[1]].max()<tree:\n",
    "        return True\n",
    "    #right\n",
    "    if forest[index[0],index[1]+1:].max()<tree:\n",
    "        return True\n",
    "    #top\n",
    "    if forest[:index[0],index[1]].max()<tree:\n",
    "        return True\n",
    "    #down\n",
    "    if forest[index[0]+1:,index[1]].max()<tree:\n",
    "        return True\n",
    "    return False\n",
    "    \n",
    "for index,tree in np.ndenumerate(forest):\n",
    "    if is_visible(forest,tree,index):\n",
    "        visible+=1\n",
    "    \n",
    "visible"
   ]
  },
  {
   "cell_type": "code",
   "execution_count": 107,
   "metadata": {},
   "outputs": [],
   "source": [
    "# part 2 count visible trees from each tree\n",
    "def get_visible_inline(forestline,tree):\n",
    "    if np.where(forestline>=tree)[0].size:\n",
    "        return np.where(forestline>=tree)[0][0]+1\n",
    "    return len(forestline)\n",
    "\n",
    "def count_visible(forest,tree,index):\n",
    "    if any(coord==0 or coord==98 for coord in index):\n",
    "        return 0\n",
    "    #left\n",
    "    forestline=forest[index[0],index[1]-1::-1]\n",
    "    left= get_visible_inline(forestline,tree)\n",
    "    #right\n",
    "    forestline=forest[index[0],index[1]+1:]\n",
    "    right= get_visible_inline(forestline,tree)\n",
    "    #top\n",
    "    forestline=forest[index[0]-1::-1,index[1]]\n",
    "    top = get_visible_inline(forestline,tree)\n",
    "    #down\n",
    "    forestline=forest[index[0]+1:,index[1]]\n",
    "    down = get_visible_inline(forestline,tree)\n",
    "    return left*right*top*down\n",
    "    \n",
    "\n"
   ]
  },
  {
   "cell_type": "code",
   "execution_count": 108,
   "metadata": {},
   "outputs": [
    {
     "data": {
      "text/plain": [
       "332640"
      ]
     },
     "execution_count": 108,
     "metadata": {},
     "output_type": "execute_result"
    }
   ],
   "source": [
    "viz_count=[]\n",
    "for index,tree in np.ndenumerate(forest):\n",
    "    viz_count.append(count_visible(forest,tree,index))\n",
    "    \n",
    "max(viz_count)"
   ]
  },
  {
   "cell_type": "code",
   "execution_count": null,
   "metadata": {},
   "outputs": [],
   "source": []
  }
 ],
 "metadata": {
  "kernelspec": {
   "display_name": "Python 3.10.6 64-bit ('letscode310')",
   "language": "python",
   "name": "python3"
  },
  "language_info": {
   "codemirror_mode": {
    "name": "ipython",
    "version": 3
   },
   "file_extension": ".py",
   "mimetype": "text/x-python",
   "name": "python",
   "nbconvert_exporter": "python",
   "pygments_lexer": "ipython3",
   "version": "3.10.6"
  },
  "orig_nbformat": 4,
  "vscode": {
   "interpreter": {
    "hash": "85e7a108dd95da4f3b728b7702bb4a60b08ee7fe3bc6394580fd7d353e3c7db8"
   }
  }
 },
 "nbformat": 4,
 "nbformat_minor": 2
}
